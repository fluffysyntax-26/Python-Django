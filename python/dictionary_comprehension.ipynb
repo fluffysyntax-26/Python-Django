{
 "cells": [
  {
   "cell_type": "markdown",
   "id": "e7eb1cd9",
   "metadata": {},
   "source": [
    "Dictionary Comprehension is basically mapping a list of tuples or other types of complex data structures into a dictionary for easier access and efficient operations on the data"
   ]
  },
  {
   "cell_type": "code",
   "execution_count": 2,
   "id": "900b1e31",
   "metadata": {},
   "outputs": [
    {
     "name": "stdout",
     "output_type": "stream",
     "text": [
      "{'Deepak': (0, 'Deepak', 'Password'), 'Ishan': (1, 'Ishan', '123'), 'Vij': (2, 'Vij', 'FightClub')}\n"
     ]
    }
   ],
   "source": [
    "# Converting a list of tuples to a dictionary\n",
    "\n",
    "users = [\n",
    "    (0, \"Deepak\", \"Password\"), \n",
    "    (1, \"Ishan\", \"123\"),\n",
    "    (2, \"Vij\", \"FightClub\")\n",
    "]\n",
    "\n",
    "user_mapping = {user[1]: user for user in users}\n",
    "\n",
    "print(user_mapping)"
   ]
  }
 ],
 "metadata": {
  "kernelspec": {
   "display_name": ".venv (3.13.2)",
   "language": "python",
   "name": "python3"
  },
  "language_info": {
   "codemirror_mode": {
    "name": "ipython",
    "version": 3
   },
   "file_extension": ".py",
   "mimetype": "text/x-python",
   "name": "python",
   "nbconvert_exporter": "python",
   "pygments_lexer": "ipython3",
   "version": "3.13.2"
  }
 },
 "nbformat": 4,
 "nbformat_minor": 5
}
