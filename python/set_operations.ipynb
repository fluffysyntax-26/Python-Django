{
 "cells": [
  {
   "cell_type": "code",
   "execution_count": null,
   "id": "46b76fa9",
   "metadata": {},
   "outputs": [
    {
     "name": "stdout",
     "output_type": "stream",
     "text": [
      "{'Vij', 'Priya'}\n"
     ]
    }
   ],
   "source": [
    "local = {\"Deepak\", \"Vij\", \"Ishan\", \"Priya\"}\n",
    "abroad = {\"Deepak\", \"Ishan\"}\n",
    "\n",
    "# perform set difference\n",
    "local_friends = local.difference(abroad)\n",
    "print(local_friends)"
   ]
  },
  {
   "cell_type": "code",
   "execution_count": null,
   "id": "d179c86c",
   "metadata": {},
   "outputs": [
    {
     "name": "stdout",
     "output_type": "stream",
     "text": [
      "{'Deepak', 'Vij', 'Amulya', 'Pranav', 'Ishan', 'Priya'}\n"
     ]
    }
   ],
   "source": [
    "college = {\"Pranav\", \"Amulya\"}\n",
    "school = {\"Deepak\", \"Vij\", \"Ishan\", \"Priya\"}\n",
    "\n",
    "# perform set union \n",
    "friends = college.union(school)\n",
    "print(friends)"
   ]
  },
  {
   "cell_type": "code",
   "execution_count": null,
   "id": "a1e25387",
   "metadata": {},
   "outputs": [
    {
     "name": "stdout",
     "output_type": "stream",
     "text": [
      "{'Deepak', 'Ishan'}\n"
     ]
    }
   ],
   "source": [
    "art = {\"Deepak\", \"Ishan\", \"Vij\", \"Amulya\"}\n",
    "science = {\"Deepak\", \"Pranav\", \"Ishan\", \"Priya\"}\n",
    "\n",
    "# perfrom set intersection\n",
    "both = art.intersection(science)\n",
    "print(both)"
   ]
  },
  {
   "cell_type": "code",
   "execution_count": 6,
   "id": "1ffbbba0",
   "metadata": {},
   "outputs": [
    {
     "data": {
      "text/plain": [
       "True"
      ]
     },
     "execution_count": 6,
     "metadata": {},
     "output_type": "execute_result"
    }
   ],
   "source": [
    "'Bob' in 'My name is Bob'"
   ]
  }
 ],
 "metadata": {
  "kernelspec": {
   "display_name": ".venv",
   "language": "python",
   "name": "python3"
  },
  "language_info": {
   "codemirror_mode": {
    "name": "ipython",
    "version": 3
   },
   "file_extension": ".py",
   "mimetype": "text/x-python",
   "name": "python",
   "nbconvert_exporter": "python",
   "pygments_lexer": "ipython3",
   "version": "3.13.2"
  }
 },
 "nbformat": 4,
 "nbformat_minor": 5
}
