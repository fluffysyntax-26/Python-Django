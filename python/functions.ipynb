{
 "cells": [
  {
   "cell_type": "markdown",
   "id": "2e7c0bc4",
   "metadata": {},
   "source": [
    "In-built functions used for data processing and segmentation \n",
    "1. Map \n",
    "2. Filter\n",
    "3. Zip"
   ]
  },
  {
   "cell_type": "code",
   "execution_count": 5,
   "id": "2f52ae01",
   "metadata": {},
   "outputs": [
    {
     "name": "stdout",
     "output_type": "stream",
     "text": [
      "[1, 4, 9, 16]\n"
     ]
    }
   ],
   "source": [
    "# Map function \n",
    "\n",
    "numbers = [1, 2, 3, 4]\n",
    "squares = list(map(lambda x: x ** 2, numbers))\n",
    "print(squares)"
   ]
  },
  {
   "cell_type": "code",
   "execution_count": 6,
   "id": "47079f52",
   "metadata": {},
   "outputs": [
    {
     "name": "stdout",
     "output_type": "stream",
     "text": [
      "[2, 4, 6]\n"
     ]
    }
   ],
   "source": [
    "# Filter Function \n",
    "\n",
    "numbers = [1, 2, 3, 4, 5, 6]\n",
    "evens = list(filter(lambda x: x % 2 == 0, numbers))\n",
    "print(evens)"
   ]
  },
  {
   "cell_type": "code",
   "execution_count": 7,
   "id": "8454b008",
   "metadata": {},
   "outputs": [
    {
     "name": "stdout",
     "output_type": "stream",
     "text": [
      "[('Alice', 25), ('Bob', 30), ('Charlie', 22)]\n"
     ]
    }
   ],
   "source": [
    "# zip function\n",
    "\n",
    "names = ['Alice', 'Bob', 'Charlie']\n",
    "ages = [25, 30, 22]\n",
    "combined = list(zip(names, ages))\n",
    "print(combined)"
   ]
  },
  {
   "cell_type": "markdown",
   "id": "2d7d3f5f",
   "metadata": {},
   "source": [
    "Function Tricks - unpacking arguments"
   ]
  },
  {
   "cell_type": "code",
   "execution_count": 8,
   "id": "34922616",
   "metadata": {},
   "outputs": [
    {
     "name": "stdout",
     "output_type": "stream",
     "text": [
      "30\n"
     ]
    }
   ],
   "source": [
    "def add_numbers(x, y): \n",
    "    return x + y\n",
    "\n",
    "nums = [10, 20]\n",
    "\n",
    "# pass the element of the list using function args\n",
    "print(add_numbers(*nums))"
   ]
  },
  {
   "cell_type": "code",
   "execution_count": 9,
   "id": "4bb8dd71",
   "metadata": {},
   "outputs": [
    {
     "name": "stdout",
     "output_type": "stream",
     "text": [
      "49\n",
      "50\n"
     ]
    }
   ],
   "source": [
    "# Add any amount of numbers together\n",
    "def add_numbers(*args): \n",
    "    return sum(args)\n",
    "\n",
    "nums = [1,2,3,4,5,6,7,8,9,3,1]\n",
    "print(add_numbers(*nums))\n",
    "\n",
    "# doing the same with Dictionaries\n",
    "\n",
    "def add_values(**kwargs): \n",
    "    return sum(kwargs.values())\n",
    "\n",
    "nums = {'x':20, 'y': 25, 'z':5}\n",
    "print(add_values(**nums))"
   ]
  },
  {
   "cell_type": "code",
   "execution_count": 10,
   "id": "9b97490d",
   "metadata": {},
   "outputs": [
    {
     "name": "stdout",
     "output_type": "stream",
     "text": [
      "Deepak 19\n"
     ]
    }
   ],
   "source": [
    "# packing and unpacking keyword arguments\n",
    "def details(name, age): \n",
    "    print(name, age)\n",
    "\n",
    "detail = { \n",
    "    \"name\":\"Deepak\", \n",
    "    \"age\": 19\n",
    "}\n",
    "\n",
    "details(**detail)"
   ]
  },
  {
   "cell_type": "code",
   "execution_count": 13,
   "id": "81ef2ea6",
   "metadata": {},
   "outputs": [
    {
     "name": "stdout",
     "output_type": "stream",
     "text": [
      "{'name': 'Deepak', 'age': 19}\n",
      "name:Deepak\n",
      "age:19\n"
     ]
    }
   ],
   "source": [
    "def named(**kwargs): \n",
    "    print(kwargs)\n",
    "\n",
    "def details(**kwargs): \n",
    "    for arg, val in kwargs.items(): \n",
    "        print(f\"{arg}:{val}\")\n",
    "\n",
    "named(**detail)\n",
    "details(**detail)"
   ]
  }
 ],
 "metadata": {
  "kernelspec": {
   "display_name": ".venv (3.13.2)",
   "language": "python",
   "name": "python3"
  },
  "language_info": {
   "codemirror_mode": {
    "name": "ipython",
    "version": 3
   },
   "file_extension": ".py",
   "mimetype": "text/x-python",
   "name": "python",
   "nbconvert_exporter": "python",
   "pygments_lexer": "ipython3",
   "version": "3.13.2"
  }
 },
 "nbformat": 4,
 "nbformat_minor": 5
}
